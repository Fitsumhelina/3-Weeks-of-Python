{
 "cells": [
  {
   "cell_type": "markdown",
   "metadata": {},
   "source": [
    "# 01 Python Lists  \n",
    "\n",
    "## **Introduction**  \n",
    "A Python list is an **ordered, mutable collection** that can hold items of various data types. Lists are versatile and widely used in Python for data manipulation.  \n",
    "\n",
    "---\n",
    "\n",
    "## **1. Creating a List**  \n",
    "### Syntax  \n",
    "Use square brackets `[]` to define a list. Items are separated by commas `,`.  \n",
    "\n",
    "**Examples**  \n",
    "```python\n",
    "# Simple list of strings\n",
    "pets = [\"dog\", \"cat\", \"rabbit\"]\n",
    "print(pets)\n",
    "\n",
    "# List with mixed data types\n",
    "mixed_list = [\"dog\", 21, True]\n",
    "print(mixed_list)\n",
    "```\n",
    "\n",
    "### Using the `list()` Constructor  \n",
    "```python\n",
    "# Creating a list using the constructor\n",
    "pets = list((\"dog\", \"cat\", \"rabbit\"))\n",
    "print(pets)  # Output: ['dog', 'cat', 'rabbit']\n",
    "```\n",
    "\n",
    "---\n",
    "\n",
    "## **2. Accessing List Elements**  \n",
    "### **Indexing**  \n",
    "List indexing starts at **0**. Use indices to access specific elements.  \n",
    "\n",
    "**Examples**  \n",
    "```python\n",
    "pets = [\"dog\", \"cat\", \"rabbit\"]\n",
    "print(pets[0])  # Output: dog\n",
    "print(pets[2])  # Output: rabbit\n",
    "```\n",
    "\n",
    "### **Negative Indexing**  \n",
    "Negative indices start from `-1` for the last item.  \n",
    "```python\n",
    "pets = [\"dog\", \"cat\", \"rabbit\"]\n",
    "print(pets[-1])  # Output: rabbit\n",
    "print(pets[-2])  # Output: cat\n",
    "```\n",
    "\n",
    "### **Range of Indexes**  \n",
    "Use a colon `:` to access a range of items.  \n",
    "```python\n",
    "pets = [\"dog\", \"cat\", \"rabbit\", \"fish\", \"hamster\"]\n",
    "\n",
    "# From index 1 to 3 (excluding 3)\n",
    "print(pets[1:3])  # Output: ['cat', 'rabbit']\n",
    "\n",
    "# Shortcut examples\n",
    "print(pets[:2])  # Output: ['dog', 'cat']  # Start from beginning\n",
    "print(pets[2:])  # Output: ['rabbit', 'fish', 'hamster']  # Till the end\n",
    "```\n",
    "\n",
    "---\n",
    "\n",
    "## **3. Modifying Lists**  \n",
    "### **Adding Items**  \n",
    "#### Using `append()`  \n",
    "Adds an item to the **end** of the list.  \n",
    "```python\n",
    "pets = [\"dog\", \"cat\"]\n",
    "pets.append(\"rabbit\")\n",
    "print(pets)  # Output: ['dog', 'cat', 'rabbit']\n",
    "```\n",
    "\n",
    "#### Using `insert()`  \n",
    "Adds an item at a **specific index**.  \n",
    "```python\n",
    "pets = [\"dog\", \"cat\", \"fish\"]\n",
    "pets.insert(1, \"rabbit\")  # Insert at index 1\n",
    "print(pets)  # Output: ['dog', 'rabbit', 'cat', 'fish']\n",
    "```\n",
    "\n",
    "### **Deleting Items**  \n",
    "#### Using `pop()`  \n",
    "Removes the last item (default) or an item at a specified index.  \n",
    "```python\n",
    "pets = [\"dog\", \"cat\", \"rabbit\"]\n",
    "pets.pop()  # Remove last item\n",
    "print(pets)  # Output: ['dog', 'cat']\n",
    "```\n",
    "\n",
    "#### Using `remove()`  \n",
    "Deletes an item by value.  \n",
    "```python\n",
    "pets = [\"dog\", \"cat\", \"rabbit\"]\n",
    "pets.remove(\"cat\")\n",
    "print(pets)  # Output: ['dog', 'rabbit']\n",
    "```\n",
    "\n",
    "#### Using `del` Keyword  \n",
    "Deletes an item by index or clears the list.  \n",
    "```python\n",
    "pets = [\"dog\", \"cat\", \"rabbit\"]\n",
    "del pets[1]  # Delete 'cat'\n",
    "print(pets)  # Output: ['dog', 'rabbit']\n",
    "```\n",
    "\n",
    "---\n",
    "\n",
    "## **4. Other Operations**  \n",
    "\n",
    "### **Get the Length**  \n",
    "```python\n",
    "pets = [\"dog\", \"cat\", \"rabbit\"]\n",
    "print(len(pets))  # Output: 3\n",
    "```\n",
    "\n",
    "### **Modify Item**  \n",
    "```python\n",
    "pets = [\"dog\", \"cat\", \"rabbit\"]\n",
    "pets[2] = \"fish\"\n",
    "print(pets)  # Output: ['dog', 'cat', 'fish']\n",
    "```\n",
    "\n",
    "### **Check for an Item**  \n",
    "```python\n",
    "pets = [\"dog\", \"cat\", \"rabbit\"]\n",
    "print(\"dog\" in pets)  # Output: True\n",
    "```\n",
    "\n",
    "### **Extend a List**  \n",
    "```python\n",
    "nums1 = [1, 2, 3]\n",
    "nums2 = [4, 5, 6]\n",
    "nums1.extend(nums2)\n",
    "print(nums1)  # Output: [1, 2, 3, 4, 5, 6]\n",
    "```\n",
    "\n",
    "---\n",
    "\n",
    "## **5. Looping Through a List**  \n",
    "```python\n",
    "pets = [\"dog\", \"cat\", \"rabbit\"]\n",
    "for pet in pets:\n",
    "    print(pet)\n",
    "```\n",
    "\n",
    "---\n",
    "\n",
    "## **6. List Comprehension**  \n",
    "An elegant way to create or modify lists.  \n",
    "```python\n",
    "# Create a list of squares\n",
    "squares = [x**2 for x in range(5)]\n",
    "print(squares)  # Output: [0, 1, 4, 9, 16]\n",
    "```\n",
    "\n",
    "---\n",
    "\n"
   ]
  },
  {
   "cell_type": "markdown",
   "metadata": {},
   "source": [
    "# Easy Exercises"
   ]
  },
  {
   "cell_type": "markdown",
   "metadata": {},
   "source": [
    " 1. **Create a list of five fruit names and print it.**\n",
    " "
   ]
  },
  {
   "cell_type": "code",
   "execution_count": null,
   "metadata": {},
   "outputs": [],
   "source": [
    "pass\n",
    "\n",
    "\n",
    "# Output: ['apple', 'banana', 'cherry', 'grape', 'orange']"
   ]
  },
  {
   "cell_type": "markdown",
   "metadata": {},
   "source": [
    " 2. **Access and print the last element in the list `[\"apple\", \"banana\", \"cherry\"]`.**\n"
   ]
  },
  {
   "cell_type": "code",
   "execution_count": null,
   "metadata": {},
   "outputs": [],
   "source": [
    "pass\n",
    "\n",
    "#Output: cherry"
   ]
  },
  {
   "cell_type": "markdown",
   "metadata": {},
   "source": [
    "  3. **Add `\"kiwi\"` to the list `[\"apple\", \"banana\"]` and print the updated list.**\n"
   ]
  },
  {
   "cell_type": "code",
   "execution_count": null,
   "metadata": {},
   "outputs": [],
   "source": [
    "pass\n",
    " \n",
    "# Output: ['apple', 'banana', 'kiwi']"
   ]
  },
  {
   "cell_type": "markdown",
   "metadata": {},
   "source": [
    " 4. **Remove `\"banana\"` from the list `[\"apple\", \"banana\", \"cherry\"]`.**\n"
   ]
  },
  {
   "cell_type": "code",
   "execution_count": null,
   "metadata": {},
   "outputs": [],
   "source": [
    "pass    \n",
    "# Output: ['apple', 'cherry']"
   ]
  },
  {
   "cell_type": "markdown",
   "metadata": {},
   "source": [
    "5. **Use a loop to print each item in the list `[\"cat\", \"dog\", \"fish\"]`.**\n",
    " \n",
    "\n"
   ]
  },
  {
   "cell_type": "code",
   "execution_count": null,
   "metadata": {},
   "outputs": [],
   "source": [
    "pass\n",
    "\n",
    "   # Output:\n",
    "   # cat\n",
    "   # dog\n",
    "   # fish"
   ]
  },
  {
   "cell_type": "markdown",
   "metadata": {},
   "source": [
    " # **Medium Exercises**"
   ]
  },
  {
   "cell_type": "markdown",
   "metadata": {},
   "source": [
    " 1. **Create a list of numbers from 1 to 10 and print only the even numbers.**\n",
    "\n",
    " "
   ]
  },
  {
   "cell_type": "code",
   "execution_count": null,
   "metadata": {},
   "outputs": [],
   "source": [
    "pass\n",
    "\n",
    "    # Output: [2, 4, 6, 8, 10]"
   ]
  },
  {
   "cell_type": "markdown",
   "metadata": {},
   "source": [
    " 2. **Reverse the list `[\"red\", \"green\", \"blue\"]`.**\n"
   ]
  },
  {
   "cell_type": "code",
   "execution_count": null,
   "metadata": {},
   "outputs": [],
   "source": [
    "pass\n",
    "\n",
    "    # Output: [\"blue\", \"green\", \"red\"]"
   ]
  },
  {
   "cell_type": "markdown",
   "metadata": {},
   "source": [
    "3. **Combine the two lists `[1, 2, 3]` and `[4, 5, 6]` into one list.**\n"
   ]
  },
  {
   "cell_type": "code",
   "execution_count": null,
   "metadata": {},
   "outputs": [],
   "source": [
    "pass \n",
    "     \n",
    "    #  Output: [1, 2, 3, 4, 5, 6]"
   ]
  },
  {
   "cell_type": "markdown",
   "metadata": {},
   "source": [
    "4. **Modify the list `[5, 10, 15]` by replacing `10` with `12`.**\n"
   ]
  },
  {
   "cell_type": "code",
   "execution_count": null,
   "metadata": {},
   "outputs": [],
   "source": [
    "pass\n",
    "\n",
    "    #  Output: [5, 12, 15]"
   ]
  },
  {
   "cell_type": "markdown",
   "metadata": {},
   "source": [
    " 5. **Find the length of the list `[\"a\", \"b\", \"c\", \"d\"]` and print it.**\n"
   ]
  },
  {
   "cell_type": "code",
   "execution_count": null,
   "metadata": {},
   "outputs": [],
   "source": [
    "pass\n",
    "\n",
    "    #  Output: 4"
   ]
  },
  {
   "cell_type": "markdown",
   "metadata": {},
   "source": [
    "#  **Hard Exercises**  \n"
   ]
  }
 ],
 "metadata": {
  "language_info": {
   "name": "python"
  }
 },
 "nbformat": 4,
 "nbformat_minor": 2
}
