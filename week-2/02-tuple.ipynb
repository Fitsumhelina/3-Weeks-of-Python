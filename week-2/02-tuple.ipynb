{
 "cells": [
  {
   "cell_type": "markdown",
   "metadata": {},
   "source": [
    "# 03 Python Tuple\n",
    "\n",
    "Tuples in Python are ordered, immutable containers that can hold a collection of items. Tuples are similar to lists but differ in their immutability, meaning their items cannot be modified after creation. This feature makes tuples an excellent choice for storing fixed data that shouldn't change.\n",
    "\n",
    "---\n",
    "\n",
    "### **Key Characteristics of Tuples**\n",
    "1. **Ordered**: The items in a tuple have a defined order.\n",
    "2. **Immutable**: Once created, you cannot change, add, or remove items.\n",
    "3. **Supports Mixed Data Types**: Tuples can hold elements of different data types (e.g., strings, integers, booleans).\n",
    "\n",
    "---\n",
    "\n",
    "### **Creating a Tuple**\n",
    "Tuples are created using **round brackets** `()`. Items are separated by commas.\n",
    "\n",
    "#### Example:\n",
    "```python\n",
    "pets = (\"dog\", \"cat\", \"rabbit\")\n",
    "print(pets)  # Output: ('dog', 'cat', 'rabbit')\n",
    "```\n",
    "\n",
    "#### Mixed Data Types:\n",
    "```python\n",
    "mixed = (\"dog\", 21, True)\n",
    "print(mixed)  # Output: ('dog', 21, True)\n",
    "```\n",
    "\n",
    "#### Using the `tuple()` Constructor:\n",
    "```python\n",
    "pets = tuple((\"dog\", \"cat\", \"rabbit\"))  # Note the double parentheses\n",
    "print(pets)  # Output: ('dog', 'cat', 'rabbit')\n",
    "```\n",
    "\n",
    "---\n",
    "\n",
    "### **Accessing Tuple Items**\n",
    "Tuples support various ways to access their elements using **indexing**, **negative indexing**, and **slicing**.\n",
    "\n",
    "#### Indexing:\n",
    "```python\n",
    "pets = (\"dog\", \"cat\", \"rabbit\")\n",
    "print(pets[0])  # Output: 'dog'\n",
    "print(pets[2])  # Output: 'rabbit'\n",
    "```\n",
    "\n",
    "#### Negative Indexing:\n",
    "```python\n",
    "print(pets[-1])  # Output: 'rabbit' (last item)\n",
    "print(pets[-2])  # Output: 'cat'\n",
    "```\n",
    "\n",
    "#### Slicing:\n",
    "- Use a colon `:` to specify a range.\n",
    "- The start index is inclusive, while the end index is exclusive.\n",
    "\n",
    "```python\n",
    "pets = (\"dog\", \"cat\", \"rabbit\", \"fish\", \"hamster\")\n",
    "print(pets[1:4])  # Output: ('cat', 'rabbit', 'fish')\n",
    "```\n",
    "\n",
    "#### Omitting Start or End Index:\n",
    "```python\n",
    "print(pets[:3])  # Output: ('dog', 'cat', 'rabbit')\n",
    "print(pets[2:])  # Output: ('rabbit', 'fish', 'hamster')\n",
    "```\n",
    "\n",
    "---\n",
    "\n",
    "### **Tuple Operations**\n",
    "\n",
    "#### Getting the Length:\n",
    "Use the `len()` function to determine the number of items in a tuple.\n",
    "```python\n",
    "print(len(pets))  # Output: 5\n",
    "```\n",
    "\n",
    "#### Looping Through a Tuple:\n",
    "```python\n",
    "for pet in pets:\n",
    "    print(pet)\n",
    "# Output:\n",
    "# dog\n",
    "# cat\n",
    "# rabbit\n",
    "# fish\n",
    "# hamster\n",
    "```\n",
    "\n",
    "#### Checking Membership:\n",
    "Use the `in` operator to check if an item exists in the tuple.\n",
    "```python\n",
    "print(\"cat\" in pets)  # Output: True\n",
    "print(\"lion\" in pets)  # Output: False\n",
    "```\n",
    "\n",
    "#### Combining Tuples:\n",
    "You can combine two tuples using the `+` operator.\n",
    "```python\n",
    "pets1 = (\"dog\", \"cat\")\n",
    "pets2 = (\"rabbit\", \"fish\")\n",
    "all_pets = pets1 + pets2\n",
    "print(all_pets)  # Output: ('dog', 'cat', 'rabbit', 'fish')\n",
    "```\n",
    "\n",
    "---\n",
    "\n",
    "### **Immutability of Tuples**\n",
    "Since tuples are immutable:\n",
    "1. **Items cannot be changed**:\n",
    "    ```python\n",
    "    my_tuple = (1, 2, 3)\n",
    "    my_tuple[0] = 10  # Raises an error\n",
    "    ```\n",
    "2. **Items cannot be added or removed**:\n",
    "    ```python\n",
    "    my_tuple.append(4)  # Raises an error\n",
    "    my_tuple.remove(2)  # Raises an error\n",
    "    ```\n"
   ]
  },
  {
   "cell_type": "markdown",
   "metadata": {},
   "source": [
    "### **Tuple Exercises**\n",
    "#### **Hard Exercises**\n",
    "1. Write a function to check if two tuples have at least one common item.\n",
    "2. Convert a tuple of strings to uppercase: `(\"hello\", \"world\") → (\"HELLO\", \"WORLD\")`.\n",
    "3. Write a program to find the unique elements in two tuples.\n",
    "4. Implement a function that takes a tuple and returns a new tuple with only even numbers.\n",
    "5. Create a tuple of mixed data types and filter out only the string elements.\n",
    "\n"
   ]
  },
  {
   "cell_type": "markdown",
   "metadata": {},
   "source": [
    "#### **Easy Exercises**"
   ]
  },
  {
   "cell_type": "markdown",
   "metadata": {},
   "source": [
    "1. Create a tuple of five colors and print it."
   ]
  },
  {
   "cell_type": "code",
   "execution_count": null,
   "metadata": {
    "vscode": {
     "languageId": "plaintext"
    }
   },
   "outputs": [],
   "source": []
  },
  {
   "cell_type": "markdown",
   "metadata": {},
   "source": [
    "2. Access the second and last item of a tuple."
   ]
  },
  {
   "cell_type": "code",
   "execution_count": null,
   "metadata": {
    "vscode": {
     "languageId": "plaintext"
    }
   },
   "outputs": [],
   "source": []
  },
  {
   "cell_type": "markdown",
   "metadata": {},
   "source": [
    "3. Slice the tuple `(\"red\", \"blue\", \"green\", \"yellow\", \"purple\")` to get the middle three items."
   ]
  },
  {
   "cell_type": "code",
   "execution_count": null,
   "metadata": {
    "vscode": {
     "languageId": "plaintext"
    }
   },
   "outputs": [],
   "source": []
  },
  {
   "cell_type": "markdown",
   "metadata": {},
   "source": [
    "4. Check if `\"orange\"` exists in the tuple `(\"red\", \"blue\", \"green\")`."
   ]
  },
  {
   "cell_type": "code",
   "execution_count": null,
   "metadata": {
    "vscode": {
     "languageId": "plaintext"
    }
   },
   "outputs": [],
   "source": []
  },
  {
   "cell_type": "markdown",
   "metadata": {},
   "source": [
    "5. Use a loop to print all items in the tuple `(\"apple\", \"banana\", \"cherry\")`.\n"
   ]
  },
  {
   "cell_type": "code",
   "execution_count": null,
   "metadata": {
    "vscode": {
     "languageId": "plaintext"
    }
   },
   "outputs": [],
   "source": []
  },
  {
   "cell_type": "markdown",
   "metadata": {},
   "source": [
    "\n",
    "#### **Medium Exercises**"
   ]
  },
  {
   "cell_type": "markdown",
   "metadata": {},
   "source": [
    "1. Create two tuples and merge them into one.\n"
   ]
  }
 ],
 "metadata": {
  "language_info": {
   "name": "python"
  }
 },
 "nbformat": 4,
 "nbformat_minor": 2
}
